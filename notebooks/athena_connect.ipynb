{
 "cells": [
  {
   "cell_type": "code",
   "execution_count": 24,
   "id": "bf10d3fc-c0c3-4c3a-9cfb-92b4b7c5b947",
   "metadata": {},
   "outputs": [
    {
     "name": "stdout",
     "output_type": "stream",
     "text": [
      "/home/rahel/etl-spark-athena/algos-common-scripts/\n"
     ]
    }
   ],
   "source": [
    "import sys, os\n",
    "#import \n",
    "athena_path = f\"{os.environ['HOME']}/etl-spark-athena/algos-common-scripts/\"\n",
    "# !cd $cpe_path ; git pull \n",
    "#\n",
    "print(athena_path)\n",
    "if not athena_path in sys.path:\n",
    "    sys.path.append(athena_path)"
   ]
  },
  {
   "cell_type": "code",
   "execution_count": 26,
   "id": "38cd75b5-cb61-4aa9-b815-eaf836dd171e",
   "metadata": {},
   "outputs": [],
   "source": [
    "from test_code.scripts import fetch_for_purpose as fetch"
   ]
  },
  {
   "cell_type": "code",
   "execution_count": 31,
   "id": "cbe18582-776d-4f9c-af93-5412efffac00",
   "metadata": {},
   "outputs": [],
   "source": [
    "cids = ['yvmem96', 'wov3naw', 'e42r2np', 'kfbwjup', 'xp5j5p9']\n",
    "dates = ['2020-11-16', '2021-12-10']"
   ]
  },
  {
   "cell_type": "code",
   "execution_count": null,
   "id": "710a8c8f-a4fd-4c65-a7f1-972becaa7750",
   "metadata": {},
   "outputs": [],
   "source": [
    "fetch.fetch_for_purpose(dates, filter={'campaign_id':cids})"
   ]
  },
  {
   "cell_type": "code",
   "execution_count": null,
   "id": "9fb3a821-7cdd-4559-adc9-8912440e397d",
   "metadata": {},
   "outputs": [],
   "source": []
  }
 ],
 "metadata": {
  "kernelspec": {
   "display_name": "Python [conda env:spark]",
   "language": "python",
   "name": "conda-env-spark-py"
  },
  "language_info": {
   "codemirror_mode": {
    "name": "ipython",
    "version": 3
   },
   "file_extension": ".py",
   "mimetype": "text/x-python",
   "name": "python",
   "nbconvert_exporter": "python",
   "pygments_lexer": "ipython3",
   "version": "3.7.9"
  }
 },
 "nbformat": 4,
 "nbformat_minor": 5
}
