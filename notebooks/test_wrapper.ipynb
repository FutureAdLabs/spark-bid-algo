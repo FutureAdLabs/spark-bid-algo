{
 "cells": [
  {
   "cell_type": "code",
   "execution_count": 5,
   "id": "ecb99e45-1ec1-47a9-807a-5acdef5911bb",
   "metadata": {},
   "outputs": [
    {
     "name": "stdout",
     "output_type": "stream",
     "text": [
      "\u001b[33mWARNING: Ignoring invalid distribution -yarrow (/opt/miniconda/envs/algos/lib/python3.9/site-packages)\u001b[0m\n",
      "\u001b[33mWARNING: Ignoring invalid distribution -lflow (/opt/miniconda/envs/algos/lib/python3.9/site-packages)\u001b[0m\n",
      "\u001b[33mWARNING: Ignoring invalid distribution -ipp (/opt/miniconda/envs/algos/lib/python3.9/site-packages)\u001b[0m\n",
      "\u001b[33mWARNING: Ignoring invalid distribution -yarrow (/opt/miniconda/envs/algos/lib/python3.9/site-packages)\u001b[0m\n",
      "\u001b[33mWARNING: Ignoring invalid distribution -lflow (/opt/miniconda/envs/algos/lib/python3.9/site-packages)\u001b[0m\n",
      "\u001b[33mWARNING: Ignoring invalid distribution -ipp (/opt/miniconda/envs/algos/lib/python3.9/site-packages)\u001b[0m\n",
      "Collecting findspark\n",
      "  Downloading findspark-2.0.1-py2.py3-none-any.whl (4.4 kB)\n",
      "\u001b[33mWARNING: Ignoring invalid distribution -yarrow (/opt/miniconda/envs/algos/lib/python3.9/site-packages)\u001b[0m\n",
      "\u001b[33mWARNING: Ignoring invalid distribution -lflow (/opt/miniconda/envs/algos/lib/python3.9/site-packages)\u001b[0m\n",
      "\u001b[33mWARNING: Ignoring invalid distribution -ipp (/opt/miniconda/envs/algos/lib/python3.9/site-packages)\u001b[0m\n",
      "Installing collected packages: findspark\n",
      "\u001b[33mWARNING: Ignoring invalid distribution -yarrow (/opt/miniconda/envs/algos/lib/python3.9/site-packages)\u001b[0m\n",
      "\u001b[33mWARNING: Ignoring invalid distribution -lflow (/opt/miniconda/envs/algos/lib/python3.9/site-packages)\u001b[0m\n",
      "\u001b[33mWARNING: Ignoring invalid distribution -ipp (/opt/miniconda/envs/algos/lib/python3.9/site-packages)\u001b[0m\n",
      "Successfully installed findspark-2.0.1\n",
      "\u001b[33mWARNING: Ignoring invalid distribution -yarrow (/opt/miniconda/envs/algos/lib/python3.9/site-packages)\u001b[0m\n",
      "\u001b[33mWARNING: Ignoring invalid distribution -lflow (/opt/miniconda/envs/algos/lib/python3.9/site-packages)\u001b[0m\n",
      "\u001b[33mWARNING: Ignoring invalid distribution -ipp (/opt/miniconda/envs/algos/lib/python3.9/site-packages)\u001b[0m\n",
      "\u001b[33mWARNING: Ignoring invalid distribution -yarrow (/opt/miniconda/envs/algos/lib/python3.9/site-packages)\u001b[0m\n",
      "\u001b[33mWARNING: Ignoring invalid distribution -lflow (/opt/miniconda/envs/algos/lib/python3.9/site-packages)\u001b[0m\n",
      "\u001b[33mWARNING: Ignoring invalid distribution -ipp (/opt/miniconda/envs/algos/lib/python3.9/site-packages)\u001b[0m\n",
      "\u001b[33mWARNING: Ignoring invalid distribution -yarrow (/opt/miniconda/envs/algos/lib/python3.9/site-packages)\u001b[0m\n",
      "\u001b[33mWARNING: Ignoring invalid distribution -lflow (/opt/miniconda/envs/algos/lib/python3.9/site-packages)\u001b[0m\n",
      "\u001b[33mWARNING: Ignoring invalid distribution -ipp (/opt/miniconda/envs/algos/lib/python3.9/site-packages)\u001b[0m\n"
     ]
    }
   ],
   "source": [
    "!pip3 install findspark"
   ]
  },
  {
   "cell_type": "code",
   "execution_count": 13,
   "id": "58d45979-a1ae-4227-a2b4-bb04027e1702",
   "metadata": {},
   "outputs": [
    {
     "name": "stdout",
     "output_type": "stream",
     "text": [
      "/home/rahel/etl-spark-athena /home/rahel/etl-spark-athena\n"
     ]
    }
   ],
   "source": [
    "import time\n",
    "import sys, os\n",
    "\n",
    "# importing path\n",
    "spark_path = f\"{os.environ['HOME']}/spark-bid-algo\"\n",
    "athena_path = f\"{os.environ['HOME']}/etl-spark-athena\"\n",
    "athena_path2 = f\"{os.environ['HOME']}/etl-spark-athena/algos-common-scripts/test_code/scripts\"\n",
    "\n",
    "\n",
    "# !cd $cpe_path ; git pull \n",
    "\n",
    "if not spark_path in sys.path:\n",
    "    sys.path.append(spark_path)\n",
    "    \n",
    "if not athena_path in sys.path:\n",
    "    sys.path.append(athena_path)\n",
    "if not athena_path2 in sys.path:\n",
    "    sys.path.append(athena_path2)\n",
    "    \n",
    "print(athena_path, athena_path)\n",
    "   "
   ]
  },
  {
   "cell_type": "code",
   "execution_count": 19,
   "id": "4763076d-699a-4edb-b474-ad91c666144e",
   "metadata": {},
   "outputs": [],
   "source": [
    "from spark.connection import createSparkConnection, closeSparkConnection\n",
    "from athena.athena_connection import AthenaConnection\n",
    "\n",
    "from components.transformers.score_transformer import Score_T\n",
    "from components.transformers.parameters.score_parameters import *\n",
    "\n",
    "from model.score import adlogdata\n",
    "from model.config import adconfig\n",
    "from model.bid import admodels"
   ]
  },
  {
   "cell_type": "markdown",
   "id": "6ed655df-2f17-48f7-accb-a6fc5636800e",
   "metadata": {},
   "source": [
    "## Creating athena and spark connections"
   ]
  },
  {
   "cell_type": "code",
   "execution_count": null,
   "id": "6d03ffa9-34de-4f9c-bc8e-868a10527efb",
   "metadata": {},
   "outputs": [],
   "source": [
    "spark= SparkConnection()"
   ]
  },
  {
   "cell_type": "code",
   "execution_count": null,
   "id": "fb357eb7-b417-4a10-9349-d6fe75d80a6b",
   "metadata": {},
   "outputs": [],
   "source": [
    "def get_s3_path(**kwargs):\n",
    "    filter_by = kwargs.get('filter_by','AdvertiserId')\n",
    "    filters = kwargs.get('filters',None)\n",
    "    start_date = kwargs.get('start_date',None)\n",
    "    end_date = kwargs.get('end_date', None)\n",
    "    \n",
    "    path = fetch.fetch_for_purpose(dry_run = True,\n",
    "                                   **{'purpose':'cpe', 'date':[start_date, end_date], 'filter':{'filters':'filter_by'}})\n",
    "    return path\n"
   ]
  },
  {
   "cell_type": "markdown",
   "id": "42636fac-7b49-47f8-bfff-5473d239d134",
   "metadata": {},
   "source": [
    "## Fetching data"
   ]
  },
  {
   "cell_type": "code",
   "execution_count": null,
   "id": "74ca92fa-2e1e-4630-a915-a7da40752d02",
   "metadata": {},
   "outputs": [],
   "source": [
    "s3_path = get_s3_path(filter_by='AdvertiserId',\n",
    "                      filters = 'qo2pgri',\n",
    "                      start_date='2020-06-09',\n",
    "                      end_date='2022-03-31')"
   ]
  },
  {
   "cell_type": "code",
   "execution_count": null,
   "id": "09cd8601-103a-4e75-a91b-68d0896291e3",
   "metadata": {},
   "outputs": [],
   "source": [
    "df = self.spark.read.format('csv')\\\n",
    "        .options(header='true', inferSchema='true')\\\n",
    "        .load(file_path)"
   ]
  },
  {
   "cell_type": "markdown",
   "id": "646c942c-1349-41ff-aa25-fbfce07dcd59",
   "metadata": {},
   "source": [
    "## Scoring data"
   ]
  },
  {
   "cell_type": "code",
   "execution_count": null,
   "id": "d2bd3f7b-a8a2-4854-b337-4e454e4133aa",
   "metadata": {},
   "outputs": [],
   "source": [
    "score = Score_T(kpi='ER',\n",
    "                        modelParams=self.model_params,\n",
    "                        verbose=2,\n",
    "                        mutualInformation=False)"
   ]
  },
  {
   "cell_type": "code",
   "execution_count": null,
   "id": "36d23542-2e87-4556-871a-84f52e193c9a",
   "metadata": {},
   "outputs": [],
   "source": [
    "df_scored = df.transform(score.transform)"
   ]
  },
  {
   "cell_type": "code",
   "execution_count": null,
   "id": "63f7664e-bc1a-4542-83cf-f9c7b0153c1c",
   "metadata": {},
   "outputs": [],
   "source": []
  }
 ],
 "metadata": {
  "kernelspec": {
   "display_name": "Python [conda env:algos]",
   "language": "python",
   "name": "conda-env-algos-py"
  },
  "language_info": {
   "codemirror_mode": {
    "name": "ipython",
    "version": 3
   },
   "file_extension": ".py",
   "mimetype": "text/x-python",
   "name": "python",
   "nbconvert_exporter": "python",
   "pygments_lexer": "ipython3",
   "version": "3.9.5"
  }
 },
 "nbformat": 4,
 "nbformat_minor": 5
}
